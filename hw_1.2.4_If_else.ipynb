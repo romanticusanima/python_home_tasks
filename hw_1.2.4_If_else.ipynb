{
  "nbformat": 4,
  "nbformat_minor": 0,
  "metadata": {
    "colab": {
      "provenance": []
    },
    "kernelspec": {
      "name": "python3",
      "display_name": "Python 3"
    },
    "language_info": {
      "name": "python"
    }
  },
  "cells": [
    {
      "cell_type": "markdown",
      "source": [
        "#Домашнє завдання до теми \"Конструкція if...else\""
      ],
      "metadata": {
        "id": "ZrhGiOYxAAbb"
      }
    },
    {
      "cell_type": "markdown",
      "source": [
        "1. **Перевірка температури:**\n",
        "   - Завдання:\n",
        "     - Дано заздалегідь визначену змінну температури `temperature`. Перевірте її значення.\n",
        "     - Якщо температура вище 25 градусів Цельсія, виведіть \"Це теплий день.\"\n",
        "     - Якщо температура знаходиться в межах від 15 до 25 градусів Цельсія (включно), виведіть \"Це приємний день.\"\n",
        "     - В іншому випадку виведіть \"Це холодний день.\""
      ],
      "metadata": {
        "id": "mpXlwoNP-cWT"
      }
    },
    {
      "cell_type": "code",
      "source": [
        "temperature = 25"
      ],
      "metadata": {
        "id": "fho34W3U-ssw"
      },
      "execution_count": 10,
      "outputs": []
    },
    {
      "cell_type": "code",
      "source": [
        "if temperature > 25:\n",
        "  print(\"Це теплий день.\")\n",
        "elif temperature >= 15:\n",
        "  print(\"Це приємний день.\")\n",
        "else:\n",
        "  print(\"Це холодний день.\")"
      ],
      "metadata": {
        "id": "CC3TlffAAPxK",
        "colab": {
          "base_uri": "https://localhost:8080/"
        },
        "outputId": "0214b0f0-f5f9-4367-dded-c07d28835c8e"
      },
      "execution_count": 11,
      "outputs": [
        {
          "output_type": "stream",
          "name": "stdout",
          "text": [
            "Це приємний день.\n"
          ]
        }
      ]
    },
    {
      "cell_type": "markdown",
      "source": [
        "2. **Калькулятор оцінок:**\n",
        "   - Завдання:\n",
        "     - Дано заздалегідь визначену змінну `score` із результатом іспиту (зі 100 балів). Ваша задача визначити відповідну літеру цієї оцінки за правилами нижче.\n",
        "     - Якщо оцінка 90 або вище, виведіть \"A\".\n",
        "     - Якщо оцінка знаходиться в межах від 80 до 89, виведіть \"B\".\n",
        "     - Якщо оцінка знаходиться в межах від 70 до 79, виведіть \"C\".\n",
        "     - Якщо оцінка знаходиться в межах від 60 до 69, виведіть \"D\".\n",
        "     - В іншому випадку виведіть \"F\".\n",
        "     \n"
      ],
      "metadata": {
        "id": "ANFbi11m-4v_"
      }
    },
    {
      "cell_type": "code",
      "source": [
        "score = 70"
      ],
      "metadata": {
        "id": "2w0dAfBw_ew2"
      },
      "execution_count": 14,
      "outputs": []
    },
    {
      "cell_type": "code",
      "source": [
        "# if score >= 90:\n",
        "#   print(\"A\")\n",
        "# elif 80 <= score <= 89:\n",
        "#   print(\"B\")\n",
        "# elif 70 <= score <= 79:\n",
        "#   print(\"C\")\n",
        "# elif 60 <= score <= 69:\n",
        "#   print(\"D\")\n",
        "# else:\n",
        "#   print(\"F\")\n",
        "\n",
        "\n",
        "if score >= 90:\n",
        "  print(\"A\")\n",
        "elif score >= 80:\n",
        "  print(\"B\")\n",
        "elif score >= 70:\n",
        "  print(\"C\")\n",
        "elif score >= 60:\n",
        "  print(\"D\")\n",
        "else:\n",
        "  print(\"F\")"
      ],
      "metadata": {
        "id": "ZdJsRZ0WAQVD",
        "colab": {
          "base_uri": "https://localhost:8080/"
        },
        "outputId": "a5f2b00f-c25e-49b6-f800-cc638b193fb0"
      },
      "execution_count": 15,
      "outputs": [
        {
          "output_type": "stream",
          "name": "stdout",
          "text": [
            "C\n"
          ]
        }
      ]
    },
    {
      "cell_type": "markdown",
      "source": [
        "\n",
        "\n",
        "3. **Перевірка на високосний рік:**\n",
        "   - Завдання:\n",
        "     - Дано заздалегідь визначену змінну року `year`. Перевірте, чи є рік високосним роком. Правила для перевірки наведені нижче.\n",
        "     - Якщо рік ділиться на 4 і не ділиться на 100, або він ділиться на 400, виведіть \"Високосний рік\".\n",
        "     - В іншому випадку виведіть \"Не високосний рік\".\n"
      ],
      "metadata": {
        "id": "ohXlepp7_dns"
      }
    },
    {
      "cell_type": "code",
      "source": [
        "year = 2024 # Приклад року"
      ],
      "metadata": {
        "id": "i4OUe6Kh_sAk"
      },
      "execution_count": 18,
      "outputs": []
    },
    {
      "cell_type": "code",
      "source": [
        "if (year % 4 == 0 and year % 100 != 0) or (year % 400 == 0):\n",
        "    print(\"Високосний рік\")\n",
        "else:\n",
        "    print(\"Не високосний рік\")"
      ],
      "metadata": {
        "id": "yTWX7B4JARhH",
        "colab": {
          "base_uri": "https://localhost:8080/"
        },
        "outputId": "4f2971e9-0077-4fbd-845e-b539a74d6838"
      },
      "execution_count": 19,
      "outputs": [
        {
          "output_type": "stream",
          "name": "stdout",
          "text": [
            "Високосний рік\n"
          ]
        }
      ]
    }
  ]
}