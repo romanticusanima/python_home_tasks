{
  "nbformat": 4,
  "nbformat_minor": 0,
  "metadata": {
    "colab": {
      "provenance": []
    },
    "kernelspec": {
      "name": "python3",
      "display_name": "Python 3"
    },
    "language_info": {
      "name": "python"
    }
  },
  "cells": [
    {
      "cell_type": "markdown",
      "source": [
        "# Домашнє завдання до теми \"Основи роботи з рядками та математичні операції\""
      ],
      "metadata": {
        "id": "9ngpqNFm8w1a"
      }
    },
    {
      "cell_type": "markdown",
      "source": [
        "1. Створіть змінні `a`, `b`, `c` та `d`, задайте їм значення відповідно 101, 210, 111, 402, та обчисліть з допомогою Python наступний вираз:  $$ \\frac{(a+b) * c}{d} $$\n",
        "\n",
        "**Важливо**: тут ми маємо обчислити значення саме з використанням змінних, а не просто чисел, як би ми робили у калькуряторі. Змінні потрібні аби за бажання ми могли змінити їх значення та не переписувати код обчислення виразу, бо він буде працювати для різних значень змінних."
      ],
      "metadata": {
        "id": "DEkQSeSyTum-"
      }
    },
    {
      "cell_type": "code",
      "source": [
        "a, b, c, d = 101, 210, 111, 402\n",
        "result = (a + b) * c / d\n",
        "result"
      ],
      "metadata": {
        "id": "u1ICQq5L3eKH",
        "colab": {
          "base_uri": "https://localhost:8080/"
        },
        "outputId": "9f287748-9d96-4422-904b-cf0cedc6623e"
      },
      "execution_count": 1,
      "outputs": [
        {
          "output_type": "execute_result",
          "data": {
            "text/plain": [
              "85.8731343283582"
            ]
          },
          "metadata": {},
          "execution_count": 1
        }
      ]
    },
    {
      "cell_type": "markdown",
      "source": [
        "Очікувана відповідь: 85.8731343283582"
      ],
      "metadata": {
        "id": "FnBVPt7G3bcR"
      }
    },
    {
      "cell_type": "markdown",
      "source": [
        "2. Якою буде остача від ділення числа 11283 на 89? Обчисліть з допомогою Python."
      ],
      "metadata": {
        "id": "HI3eEYZRT4Cn"
      }
    },
    {
      "cell_type": "code",
      "execution_count": 2,
      "metadata": {
        "id": "ejZc3ng_TpgY",
        "colab": {
          "base_uri": "https://localhost:8080/"
        },
        "outputId": "68054fe6-34a6-453f-eed8-e23058d9a26d"
      },
      "outputs": [
        {
          "output_type": "execute_result",
          "data": {
            "text/plain": [
              "69"
            ]
          },
          "metadata": {},
          "execution_count": 2
        }
      ],
      "source": [
        "11283 % 89"
      ]
    },
    {
      "cell_type": "markdown",
      "source": [
        "3. Скільки цілих разів поміститься число 89 в 11283? (Або що те саме: який буде результат цілочисельного ділення 11283 на 89?)"
      ],
      "metadata": {
        "id": "RO02CqdqT9oG"
      }
    },
    {
      "cell_type": "code",
      "source": [
        "11283 // 89"
      ],
      "metadata": {
        "id": "KEUb9lO5T_PI",
        "colab": {
          "base_uri": "https://localhost:8080/"
        },
        "outputId": "9736760a-996c-46e0-8dd2-d8368b0d9a5a"
      },
      "execution_count": 3,
      "outputs": [
        {
          "output_type": "execute_result",
          "data": {
            "text/plain": [
              "126"
            ]
          },
          "metadata": {},
          "execution_count": 3
        }
      ]
    },
    {
      "cell_type": "markdown",
      "source": [
        "4. Запишіть у змінну `name` ваше імʼя."
      ],
      "metadata": {
        "id": "5fnIPumiT_rt"
      }
    },
    {
      "cell_type": "code",
      "source": [
        "name = \"Anastasiia\""
      ],
      "metadata": {
        "id": "xP7Mbq45UFlV"
      },
      "execution_count": 4,
      "outputs": []
    },
    {
      "cell_type": "markdown",
      "source": [
        "5. Запишіть у змінну `surname` ваше прізвище."
      ],
      "metadata": {
        "id": "fR9TqY79UNDL"
      }
    },
    {
      "cell_type": "code",
      "source": [
        "surname = \"Zvonovska\""
      ],
      "metadata": {
        "id": "0qHjyMyvUOM1"
      },
      "execution_count": 5,
      "outputs": []
    },
    {
      "cell_type": "markdown",
      "source": [
        "6. Сконкатенуйте імʼя та прізвище в одну фразу через пробіл. Запишіть результат у нову змінну `name_surname` та виведіть результат на екран.  "
      ],
      "metadata": {
        "id": "zqKncQLwUOxh"
      }
    },
    {
      "cell_type": "code",
      "source": [
        "# name_surname = name + \" \" + surname\n",
        "name_surname = f\"{name} {surname}\"\n",
        "name_surname"
      ],
      "metadata": {
        "id": "8E-blvN-UTPg",
        "colab": {
          "base_uri": "https://localhost:8080/",
          "height": 35
        },
        "outputId": "93c1a4e2-8b1d-4422-f4b5-d8db1c826853"
      },
      "execution_count": 7,
      "outputs": [
        {
          "output_type": "execute_result",
          "data": {
            "text/plain": [
              "'Anastasiia Zvonovska'"
            ],
            "application/vnd.google.colaboratory.intrinsic+json": {
              "type": "string"
            }
          },
          "metadata": {},
          "execution_count": 7
        }
      ]
    },
    {
      "cell_type": "markdown",
      "source": [
        "Очікувана відповідь (тільки з вашими даними): 'Hanna Pylieva'"
      ],
      "metadata": {
        "id": "_Unl7EXlUgYn"
      }
    },
    {
      "cell_type": "markdown",
      "source": [
        "7. Зробіть усі літери змінної `name_surname` заглавними використовуючи метод рядків в Python:"
      ],
      "metadata": {
        "id": "z-3FI0IrUT0U"
      }
    },
    {
      "cell_type": "code",
      "source": [
        "print(name_surname.upper())"
      ],
      "metadata": {
        "id": "9ahIwyT5UblY",
        "colab": {
          "base_uri": "https://localhost:8080/"
        },
        "outputId": "e23f2f71-b961-4258-c35b-cb7db93d1190"
      },
      "execution_count": 8,
      "outputs": [
        {
          "output_type": "stream",
          "name": "stdout",
          "text": [
            "ANASTASIIA ZVONOVSKA\n"
          ]
        }
      ]
    },
    {
      "cell_type": "markdown",
      "source": [
        "Очікувана відповідь (тільки з вашими даними): 'HANNA PYLIEVA'"
      ],
      "metadata": {
        "id": "6PDcqfmdUcLo"
      }
    },
    {
      "cell_type": "markdown",
      "source": [
        "8. Виведіть третю літеру вашого `name_surname`. Тут уважно, треба саме третя літера. Згадайте, з якого значення починається індексування значень в Python."
      ],
      "metadata": {
        "id": "qNl8KxeXUtnL"
      }
    },
    {
      "cell_type": "code",
      "source": [
        "print(name_surname[2])"
      ],
      "metadata": {
        "id": "Tp7stqAhUvJz",
        "colab": {
          "base_uri": "https://localhost:8080/"
        },
        "outputId": "dbf37367-aab3-45d9-b0ba-4c15ec19809a"
      },
      "execution_count": 9,
      "outputs": [
        {
          "output_type": "stream",
          "name": "stdout",
          "text": [
            "a\n"
          ]
        }
      ]
    },
    {
      "cell_type": "markdown",
      "source": [
        "Очікувана відповідь (тільки з вашими даними): 'n'"
      ],
      "metadata": {
        "id": "GYWHqb3UUvqk"
      }
    },
    {
      "cell_type": "markdown",
      "metadata": {
        "pycharm": {
          "name": "#%% md\n"
        },
        "id": "1f3cc1a7"
      },
      "source": [
        "9. Виведіть першу та останню літеру вашого прізвища."
      ]
    },
    {
      "cell_type": "code",
      "source": [
        "print(surname[0], surname[len(surname) - 1], sep=\"\\n\")"
      ],
      "metadata": {
        "id": "s1ZgN3xuUyB8",
        "colab": {
          "base_uri": "https://localhost:8080/"
        },
        "outputId": "62ccf1e9-cd25-4bab-c93b-ae65a843abe8"
      },
      "execution_count": 11,
      "outputs": [
        {
          "output_type": "stream",
          "name": "stdout",
          "text": [
            "Z\n",
            "a\n"
          ]
        }
      ]
    },
    {
      "cell_type": "markdown",
      "source": [
        "Очікувана відповідь (тільки з вашими даними): ('P', 'a')"
      ],
      "metadata": {
        "id": "KjlFjjhHVAt2"
      }
    },
    {
      "cell_type": "markdown",
      "source": [
        "10. Виведіть довжину вашого прізвища."
      ],
      "metadata": {
        "id": "UYLoho3DVMt2"
      }
    },
    {
      "cell_type": "code",
      "source": [
        "print(len(surname))"
      ],
      "metadata": {
        "id": "0TPJBh0LVA8q",
        "colab": {
          "base_uri": "https://localhost:8080/"
        },
        "outputId": "368b5ab5-849e-4d18-a571-c8192f78ade0"
      },
      "execution_count": 12,
      "outputs": [
        {
          "output_type": "stream",
          "name": "stdout",
          "text": [
            "9\n"
          ]
        }
      ]
    },
    {
      "cell_type": "markdown",
      "source": [
        "Очікувана відповідь (тільки з вашими даними): 7\n"
      ],
      "metadata": {
        "id": "9FaxqvVgVRYW"
      }
    },
    {
      "cell_type": "markdown",
      "source": [
        "11. Виведіть кількість літер `a` у столиці Мадагаскару `Antananarivo`. Важливо врахувати всі літери, як великі, так і маленькі."
      ],
      "metadata": {
        "id": "JN2wxSlGVVAj"
      }
    },
    {
      "cell_type": "code",
      "source": [
        "print(\"Antananarivo\".lower().count(\"a\"))"
      ],
      "metadata": {
        "id": "LCeHHz9bVUgL",
        "colab": {
          "base_uri": "https://localhost:8080/"
        },
        "outputId": "245d7c35-f155-4776-c004-7f25e70d4e7c"
      },
      "execution_count": 13,
      "outputs": [
        {
          "output_type": "stream",
          "name": "stdout",
          "text": [
            "4\n"
          ]
        }
      ]
    },
    {
      "cell_type": "markdown",
      "source": [
        "Очікувана відповідь: 4"
      ],
      "metadata": {
        "id": "Ux4SQiuSVo92"
      }
    },
    {
      "cell_type": "markdown",
      "source": [
        "12. Створіть рядок `my_string` зі значенням: \"The quick brown fox jumps over the lazy dog!!!\".   \n",
        "Перевірте, чи починається рядок `my_string` з \"The\" і чи закінчується він \"dog!\". Виведіть результати на екран."
      ],
      "metadata": {
        "id": "mwEs0xnmVtes"
      }
    },
    {
      "cell_type": "code",
      "source": [
        "my_string = \"The quick brown fox jumps over the lazy dog!!!\"\n",
        "print(my_string.startswith(\"The\"))\n",
        "print(my_string.endswith(\"dog!\"))"
      ],
      "metadata": {
        "id": "VlXDNpXcVs59",
        "colab": {
          "base_uri": "https://localhost:8080/"
        },
        "outputId": "d9dd502a-9301-4d2d-c4d6-1ee3c3f00bdb"
      },
      "execution_count": 14,
      "outputs": [
        {
          "output_type": "stream",
          "name": "stdout",
          "text": [
            "True\n",
            "False\n"
          ]
        }
      ]
    },
    {
      "cell_type": "markdown",
      "source": [
        "13. Розділіть рядок `my_string` на список окремих слів, а потім з'єднайте всі слова через нижнє підкреслювання. Виведіть результат на екран."
      ],
      "metadata": {
        "id": "Yc-UwtqvV_h0"
      }
    },
    {
      "cell_type": "code",
      "source": [
        "print(\"_\".join(my_string.split()))"
      ],
      "metadata": {
        "id": "m5I48Ii-WDSK",
        "colab": {
          "base_uri": "https://localhost:8080/"
        },
        "outputId": "e8ecbf22-7259-4b80-b605-6e4e4683988d"
      },
      "execution_count": 15,
      "outputs": [
        {
          "output_type": "stream",
          "name": "stdout",
          "text": [
            "The_quick_brown_fox_jumps_over_the_lazy_dog!!!\n"
          ]
        }
      ]
    },
    {
      "cell_type": "markdown",
      "source": [
        "Очікуваний результат: `The_quick_brown_fox_jumps_over_the_lazy_dog!!!`"
      ],
      "metadata": {
        "id": "UqvD1_jIXRhx"
      }
    }
  ]
}