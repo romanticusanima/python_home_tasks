{
 "cells": [
  {
   "cell_type": "markdown",
   "id": "2153041f",
   "metadata": {
    "id": "2153041f"
   },
   "source": [
    "# Завдання на використання SQL в Python"
   ]
  },
  {
   "cell_type": "markdown",
   "id": "2c1af6e1",
   "metadata": {
    "ExecuteTime": {
     "end_time": "2022-11-27T18:04:46.316592Z",
     "start_time": "2022-11-27T18:04:46.302021Z"
    },
    "id": "2c1af6e1"
   },
   "source": [
    "1.Встановіть бібліотеку `mysql-connector-python` через pip aбо через conda."
   ]
  },
  {
   "cell_type": "code",
   "execution_count": 1,
   "id": "a8fcd64e",
   "metadata": {
    "colab": {
     "base_uri": "https://localhost:8080/"
    },
    "id": "a8fcd64e",
    "outputId": "4b3c8731-9a2b-4755-de94-bed7e7f8f942"
   },
   "outputs": [
    {
     "name": "stdout",
     "output_type": "stream",
     "text": [
      "Collecting mysql-connector-python\n",
      "  Downloading mysql_connector_python-9.0.0-cp39-cp39-macosx_13_0_x86_64.whl.metadata (2.0 kB)\n",
      "Downloading mysql_connector_python-9.0.0-cp39-cp39-macosx_13_0_x86_64.whl (14.2 MB)\n",
      "\u001b[2K   \u001b[90m━━━━━━━━━━━━━━━━━━━━━━━━━━━━━━━━━━━━━━━━\u001b[0m \u001b[32m14.2/14.2 MB\u001b[0m \u001b[31m19.7 MB/s\u001b[0m eta \u001b[36m0:00:00\u001b[0m00:01\u001b[0m00:01\u001b[0m\n",
      "\u001b[?25hInstalling collected packages: mysql-connector-python\n",
      "Successfully installed mysql-connector-python-9.0.0\n",
      "\n",
      "\u001b[1m[\u001b[0m\u001b[34;49mnotice\u001b[0m\u001b[1;39;49m]\u001b[0m\u001b[39;49m A new release of pip is available: \u001b[0m\u001b[31;49m24.1.2\u001b[0m\u001b[39;49m -> \u001b[0m\u001b[32;49m24.2\u001b[0m\n",
      "\u001b[1m[\u001b[0m\u001b[34;49mnotice\u001b[0m\u001b[1;39;49m]\u001b[0m\u001b[39;49m To update, run: \u001b[0m\u001b[32;49mpip install --upgrade pip\u001b[0m\n"
     ]
    }
   ],
   "source": [
    "!pip install mysql-connector-python"
   ]
  },
  {
   "cell_type": "code",
   "execution_count": 2,
   "id": "lTJkTBZqAUO1",
   "metadata": {
    "id": "lTJkTBZqAUO1"
   },
   "outputs": [],
   "source": [
    "import mysql.connector\n",
    "from mysql.connector.connection import MySQLConnection\n",
    "import datetime"
   ]
  },
  {
   "cell_type": "markdown",
   "id": "eec5551e",
   "metadata": {
    "id": "eec5551e",
    "pycharm": {
     "name": "#%% md\n"
    }
   },
   "source": [
    "2.В змінній `con` створіть підключення до бази даних employees за аналогією того, як це робилось в лекції:"
   ]
  },
  {
   "cell_type": "code",
   "execution_count": 18,
   "id": "e3fff0d8",
   "metadata": {
    "colab": {
     "base_uri": "https://localhost:8080/",
     "height": 418
    },
    "id": "e3fff0d8",
    "outputId": "1a7a05a9-a450-4b66-a28c-2413c608cfe5"
   },
   "outputs": [],
   "source": [
    "con = mysql.connector.connect(user='root', password='12345678', host='127.0.0.1', database='employees')"
   ]
  },
  {
   "cell_type": "markdown",
   "id": "8b17a588",
   "metadata": {
    "ExecuteTime": {
     "end_time": "2022-01-26T22:23:01.406330Z",
     "start_time": "2022-01-26T22:23:01.403942Z"
    },
    "id": "8b17a588",
    "pycharm": {
     "name": "#%% md\n"
    }
   },
   "source": [
    "3.Виберіть максимальну і мінімальну дати найму співробітників використовуючи `con.cursor()`. Аби отримати результати в кінці, виконайте `cursor.fetchall()`."
   ]
  },
  {
   "cell_type": "code",
   "execution_count": 19,
   "id": "2d9785de",
   "metadata": {
    "id": "2d9785de"
   },
   "outputs": [],
   "source": [
    "cursor = con.cursor()"
   ]
  },
  {
   "cell_type": "code",
   "execution_count": 23,
   "id": "90061e26-deab-4591-a7bc-9c60bbe21659",
   "metadata": {},
   "outputs": [],
   "source": [
    "sql = \"\"\"\n",
    "SELECT max(hire_date), min(hire_date)\n",
    "FROM employees\n",
    "\"\"\""
   ]
  },
  {
   "cell_type": "code",
   "execution_count": 24,
   "id": "79e33523-792a-4fec-ac79-a0c772537361",
   "metadata": {},
   "outputs": [],
   "source": [
    "cursor.execute(sql)"
   ]
  },
  {
   "cell_type": "code",
   "execution_count": 25,
   "id": "d8dbf84d-6a4c-4e1a-8f97-f85ce96191e8",
   "metadata": {},
   "outputs": [
    {
     "data": {
      "text/plain": [
       "[(datetime.date(2000, 1, 28), datetime.date(1985, 1, 1))]"
      ]
     },
     "execution_count": 25,
     "metadata": {},
     "output_type": "execute_result"
    }
   ],
   "source": [
    "cursor.fetchall()"
   ]
  },
  {
   "cell_type": "markdown",
   "id": "955dd2fa",
   "metadata": {
    "ExecuteTime": {
     "end_time": "2022-11-27T18:11:33.491134Z",
     "start_time": "2022-11-27T18:11:33.486973Z"
    },
    "id": "955dd2fa"
   },
   "source": [
    "Очікуваний результат:  \n",
    "    `[(datetime.date(2000, 1, 28), datetime.date(1985, 1, 1))]`"
   ]
  },
  {
   "cell_type": "markdown",
   "id": "1d9c214d",
   "metadata": {
    "ExecuteTime": {
     "end_time": "2023-07-14T15:52:49.876166Z",
     "start_time": "2023-07-14T15:52:49.855548Z"
    },
    "id": "1d9c214d"
   },
   "source": [
    "4.Давайте зберемо інформацію про останню ЗП кожного співробіткника в базі. З використанням `con.cursor()` виберіть з таблиці `salaries` для кожного співробітника його номер, останню в базі даних (тобто ту, що відповідає найновішій `to_date`) ЗП, та значення `from_date`, `to_date` для цієї ЗП.\n",
    "\n",
    "Результати запишіть у pandas DataFrame, який збережіть у змінну `res`. Як взяти з курсора назви колонок - вже наведено. На екран виведіть назви колонок в змінній `res`, розмір цього датафрейму та перші 3 записи в ньому.\n",
    "\n",
    "УВАГА! Зверніть увагу, що ЗП може оновлюватись протягом одного дня, тобто є випадки, коли апдейт ЗП був в певний день, скажімо 2001-01-01 і потім стався ще один апдейт ЗП цьому співробітнику цього самого дня. Запит має це враховувати.\n",
    "Також, теоретично ЗП може бути зменшена. Тож, брати дату з максимальною ЗП буде неправильно з точки зору бізнес логіки. Треба саме останнє історичне значення ЗП кожного співробітника."
   ]
  },
  {
   "cell_type": "code",
   "execution_count": 26,
   "id": "a4f0ce45-ebb6-4fda-980c-858b6ecb9873",
   "metadata": {},
   "outputs": [],
   "source": [
    "sql_salaries = \"\"\"\n",
    "SELECT emp_no, salary, from_date, to_date\n",
    "FROM salaries s1\n",
    "WHERE to_date = (\n",
    "    SELECT MAX(to_date)\n",
    "    FROM salaries s2\n",
    "    WHERE s1.emp_no = s2.emp_no\n",
    "    AND from_date <= to_date\n",
    ")\n",
    "ORDER BY emp_no;\n",
    "\"\"\""
   ]
  },
  {
   "cell_type": "code",
   "execution_count": 30,
   "id": "5a8e8142-7556-4bac-a04d-4f3ddbbb8f86",
   "metadata": {},
   "outputs": [],
   "source": [
    "import pandas as pd"
   ]
  },
  {
   "cell_type": "code",
   "execution_count": 31,
   "id": "f326ba43",
   "metadata": {
    "id": "f326ba43"
   },
   "outputs": [],
   "source": [
    "cursor.execute(sql_salaries)"
   ]
  },
  {
   "cell_type": "code",
   "execution_count": 32,
   "id": "e2037278-2531-4cfd-a6a5-f017eee620e3",
   "metadata": {},
   "outputs": [],
   "source": [
    "rows = cursor.fetchall()"
   ]
  },
  {
   "cell_type": "code",
   "execution_count": 33,
   "id": "bf5eb14d",
   "metadata": {
    "ExecuteTime": {
     "end_time": "2023-07-14T16:14:15.617144Z",
     "start_time": "2023-07-14T16:14:15.611369Z"
    },
    "id": "bf5eb14d"
   },
   "outputs": [],
   "source": [
    "field_names = [i[0] for i in cursor.description]"
   ]
  },
  {
   "cell_type": "code",
   "execution_count": 37,
   "id": "eb238b0d-7e92-4d29-aa06-898d2e3342b6",
   "metadata": {},
   "outputs": [],
   "source": [
    "res = pd.DataFrame(rows, columns=field_names)"
   ]
  },
  {
   "cell_type": "code",
   "execution_count": 39,
   "id": "6ab6efbc-d967-4e4c-b50d-6a37eb128e0e",
   "metadata": {},
   "outputs": [
    {
     "data": {
      "text/plain": [
       "Index(['emp_no', 'salary', 'from_date', 'to_date'], dtype='object')"
      ]
     },
     "metadata": {},
     "output_type": "display_data"
    },
    {
     "data": {
      "text/plain": [
       "(300180, 4)"
      ]
     },
     "metadata": {},
     "output_type": "display_data"
    },
    {
     "data": {
      "text/html": [
       "<div>\n",
       "<style scoped>\n",
       "    .dataframe tbody tr th:only-of-type {\n",
       "        vertical-align: middle;\n",
       "    }\n",
       "\n",
       "    .dataframe tbody tr th {\n",
       "        vertical-align: top;\n",
       "    }\n",
       "\n",
       "    .dataframe thead th {\n",
       "        text-align: right;\n",
       "    }\n",
       "</style>\n",
       "<table border=\"1\" class=\"dataframe\">\n",
       "  <thead>\n",
       "    <tr style=\"text-align: right;\">\n",
       "      <th></th>\n",
       "      <th>emp_no</th>\n",
       "      <th>salary</th>\n",
       "      <th>from_date</th>\n",
       "      <th>to_date</th>\n",
       "    </tr>\n",
       "  </thead>\n",
       "  <tbody>\n",
       "    <tr>\n",
       "      <th>0</th>\n",
       "      <td>10001</td>\n",
       "      <td>88958</td>\n",
       "      <td>2002-06-22</td>\n",
       "      <td>9999-01-01</td>\n",
       "    </tr>\n",
       "    <tr>\n",
       "      <th>1</th>\n",
       "      <td>10002</td>\n",
       "      <td>72527</td>\n",
       "      <td>2001-08-02</td>\n",
       "      <td>9999-01-01</td>\n",
       "    </tr>\n",
       "    <tr>\n",
       "      <th>2</th>\n",
       "      <td>10003</td>\n",
       "      <td>43311</td>\n",
       "      <td>2001-12-01</td>\n",
       "      <td>9999-01-01</td>\n",
       "    </tr>\n",
       "  </tbody>\n",
       "</table>\n",
       "</div>"
      ],
      "text/plain": [
       "   emp_no  salary   from_date     to_date\n",
       "0   10001   88958  2002-06-22  9999-01-01\n",
       "1   10002   72527  2001-08-02  9999-01-01\n",
       "2   10003   43311  2001-12-01  9999-01-01"
      ]
     },
     "metadata": {},
     "output_type": "display_data"
    }
   ],
   "source": [
    "display(res.columns)\n",
    "display(res.shape)\n",
    "display(res.head(3))"
   ]
  },
  {
   "cell_type": "markdown",
   "id": "fb5676cb",
   "metadata": {
    "id": "fb5676cb"
   },
   "source": [
    "Очікуваний результат:\n",
    "\n",
    "![](https://drive.google.com/uc?export=view&id=1lNvzbAebtkj3C2v-I5AE6HkMH8MTI1kA)"
   ]
  },
  {
   "cell_type": "markdown",
   "id": "e5770b56",
   "metadata": {
    "ExecuteTime": {
     "end_time": "2023-07-14T16:17:31.638485Z",
     "start_time": "2023-07-14T16:17:31.632827Z"
    },
    "id": "e5770b56"
   },
   "source": [
    "5.В утвореній вибірці в змінній `res` скільки значень `to_date` рівні `9999-01-01`, а скільки - ні? Увага! Для виконання цього завдання важливо розуміти, який тип даних у значень колонки `to_date`. Зʼясуйте це, і потім напишіть фільтр для виводу потрібного результату."
   ]
  },
  {
   "cell_type": "code",
   "execution_count": 56,
   "id": "38abdbf1-eb5f-4af1-a7f0-e973198b0d72",
   "metadata": {},
   "outputs": [
    {
     "name": "stdout",
     "output_type": "stream",
     "text": [
      "object\n"
     ]
    }
   ],
   "source": [
    "print(res['to_date'].dtype)"
   ]
  },
  {
   "cell_type": "code",
   "execution_count": 62,
   "id": "b865a663-07e9-439f-8a84-cfcdb694db0e",
   "metadata": {},
   "outputs": [
    {
     "name": "stdout",
     "output_type": "stream",
     "text": [
      "[datetime.date(9999, 1, 1) datetime.date(2000, 7, 31)\n",
      " datetime.date(1996, 11, 9) ... datetime.date(1986, 7, 18)\n",
      " datetime.date(1988, 5, 3) datetime.date(1987, 8, 25)]\n"
     ]
    }
   ],
   "source": [
    "print(res['to_date'].unique())"
   ]
  },
  {
   "cell_type": "code",
   "execution_count": 68,
   "id": "b4eb9f84-c4ae-4e46-b440-3e8d4f1267de",
   "metadata": {},
   "outputs": [],
   "source": [
    "filter_9999 = res[res['to_date'] == datetime.date(9999, 1, 1)]\n",
    "filter_not_9999 = res[res['to_date'] != datetime.date(9999, 1, 1)]"
   ]
  },
  {
   "cell_type": "code",
   "execution_count": 69,
   "id": "fa2fc962-93fa-4e21-a236-7313369ee00c",
   "metadata": {},
   "outputs": [
    {
     "data": {
      "text/plain": [
       "240124"
      ]
     },
     "metadata": {},
     "output_type": "display_data"
    },
    {
     "data": {
      "text/plain": [
       "60056"
      ]
     },
     "metadata": {},
     "output_type": "display_data"
    }
   ],
   "source": [
    "display(\n",
    "    filter_9999.shape[0], \n",
    "    filter_not_9999.shape[0]\n",
    ")"
   ]
  },
  {
   "cell_type": "markdown",
   "id": "ae22c37a",
   "metadata": {
    "id": "ae22c37a"
   },
   "source": [
    "6.Виведіть візуально розподіл (гістограму) зарплат співробітників, які досі працюють в компанії, використовуючи результат попереднього завдання. Співробітниками, які досі працюють в компанії вважаємо тих, в кого to_date має значення 9999-01-01. Обовʼязково підпишіть графік і вісі.\n",
    "\n",
    "Ці три завдання - приклад, як нам може бути зручно витягнути дані з бази певним запитом, а потім використати витягнуту вибірку у Python для подальшого аналізу."
   ]
  },
  {
   "cell_type": "code",
   "execution_count": 73,
   "id": "ede9a748",
   "metadata": {
    "id": "ede9a748"
   },
   "outputs": [
    {
     "data": {
      "image/png": "[encoded data removed]",
      "text/plain": [
       "<Figure size 640x480 with 1 Axes>"
      ]
     },
     "metadata": {},
     "output_type": "display_data"
    }
   ],
   "source": [
    "filter_9999.salary.plot(\n",
    "    kind='hist',\n",
    "    title='Distribution of current salaries in the company',\n",
    "    xlabel='Salary',\n",
    "    ylabel='Number of employees',\n",
    "    grid=\"True\"\n",
    ");"
   ]
  },
  {
   "cell_type": "markdown",
   "id": "AL26SP3WMJiX",
   "metadata": {
    "id": "AL26SP3WMJiX"
   },
   "source": [
    "Очікуваний результат:\n",
    "\n",
    "![](https://drive.google.com/uc?export=view&id=1j8MHLC1E0revbQLM9B0UJs6tVEgoWhmK)"
   ]
  },
  {
   "cell_type": "markdown",
   "id": "Cp_JpGPpKmzp",
   "metadata": {
    "id": "Cp_JpGPpKmzp"
   },
   "source": [
    "НЕ ЗАБУВАЄМО ЗАКРИТИ ПІДКЛЮЧЕННЯ ДО БАЗИ :)"
   ]
  },
  {
   "cell_type": "code",
   "execution_count": 74,
   "id": "WEMo9bl6KnMh",
   "metadata": {
    "id": "WEMo9bl6KnMh"
   },
   "outputs": [],
   "source": [
    "con.close()"
   ]
  }
 ],
 "metadata": {
  "colab": {
   "provenance": []
  },
  "kernelspec": {
   "display_name": "Python 3 (ipykernel)",
   "language": "python",
   "name": "python3"
  },
  "language_info": {
   "codemirror_mode": {
    "name": "ipython",
    "version": 3
   },
   "file_extension": ".py",
   "mimetype": "text/x-python",
   "name": "python",
   "nbconvert_exporter": "python",
   "pygments_lexer": "ipython3",
   "version": "3.9.13"
  },
  "toc": {
   "base_numbering": 1,
   "nav_menu": {},
   "number_sections": true,
   "sideBar": true,
   "skip_h1_title": false,
   "title_cell": "Table of Contents",
   "title_sidebar": "Contents",
   "toc_cell": false,
   "toc_position": {},
   "toc_section_display": true,
   "toc_window_display": false
  },
  "vscode": {
   "interpreter": {
    "hash": "a6511e6b41b26ba86cca7483749cf4dd15bf137a2672e550741a656e19bba82e"
   }
  }
 },
 "nbformat": 4,
 "nbformat_minor": 5
}
