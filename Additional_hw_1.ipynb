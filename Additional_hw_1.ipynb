{
  "cells": [
    {
      "cell_type": "markdown",
      "id": "5b1cae7d",
      "metadata": {
        "id": "5b1cae7d"
      },
      "source": [
        "1.Задане значення у змінній var. Перетворіть значення в змінній var на цілочисельне, запишіть в нову змінну `var_int` та виведіть тип нової змінної `var_int`."
      ]
    },
    {
      "cell_type": "code",
      "execution_count": null,
      "id": "d93f77ed",
      "metadata": {
        "ExecuteTime": {
          "end_time": "2023-06-13T11:52:35.489925Z",
          "start_time": "2023-06-13T11:52:35.487238Z"
        },
        "id": "d93f77ed"
      },
      "outputs": [],
      "source": [
        "var = '1224'"
      ]
    },
    {
      "cell_type": "code",
      "execution_count": null,
      "id": "5a4afe8f",
      "metadata": {
        "id": "5a4afe8f",
        "colab": {
          "base_uri": "https://localhost:8080/"
        },
        "outputId": "3ab38f30-16bd-4066-9303-420935aa8561"
      },
      "outputs": [
        {
          "output_type": "execute_result",
          "data": {
            "text/plain": [
              "1224"
            ]
          },
          "metadata": {},
          "execution_count": 2
        }
      ],
      "source": [
        "var_int = int(var)\n",
        "var_int"
      ]
    },
    {
      "cell_type": "markdown",
      "id": "eb3d19d8",
      "metadata": {
        "ExecuteTime": {
          "end_time": "2023-06-13T13:00:19.611699Z",
          "start_time": "2023-06-13T13:00:19.607737Z"
        },
        "id": "eb3d19d8"
      },
      "source": [
        "2.У Вас є список слів. Виведіть кожне третє слово в списку."
      ]
    },
    {
      "cell_type": "code",
      "execution_count": null,
      "id": "477f4ced",
      "metadata": {
        "ExecuteTime": {
          "end_time": "2023-06-13T13:00:02.052801Z",
          "start_time": "2023-06-13T13:00:02.048798Z"
        },
        "id": "477f4ced"
      },
      "outputs": [],
      "source": [
        "words = [\"apple\", \"banana\", \"cherry\", \"date\", \"elderberry\", \"fig\", \"grape\", \"honeydew\", \"ice cream\", \"jackfruit\", \"kiwi\", \"lemon\", \"mango\", \"nectarine\", \"orange\", \"pineapple\", \"quince\", \"raspberry\", \"strawberry\", \"tangerine\", \"ugli fruit\", \"vanilla\", \"watermelon\", \"xigua\", \"yam\", \"zucchini\"]"
      ]
    },
    {
      "cell_type": "code",
      "execution_count": null,
      "id": "1b73ca2f",
      "metadata": {
        "id": "1b73ca2f",
        "colab": {
          "base_uri": "https://localhost:8080/"
        },
        "outputId": "a335c301-88d6-4987-aafd-77fa85901347"
      },
      "outputs": [
        {
          "output_type": "stream",
          "name": "stdout",
          "text": [
            "['cherry', 'fig', 'ice cream', 'lemon', 'orange', 'raspberry', 'ugli fruit', 'xigua']\n"
          ]
        }
      ],
      "source": [
        "result = []\n",
        "for i,word in enumerate(words):\n",
        "  if((i + 1) % 3 == 0):\n",
        "    result.append(word)\n",
        "\n",
        "print(result)"
      ]
    },
    {
      "cell_type": "markdown",
      "id": "394d1dea",
      "metadata": {
        "id": "394d1dea"
      },
      "source": [
        "3.Скільки всього СЛІВ у списку `words`?"
      ]
    },
    {
      "cell_type": "code",
      "execution_count": null,
      "id": "83c88182",
      "metadata": {
        "id": "83c88182",
        "colab": {
          "base_uri": "https://localhost:8080/"
        },
        "outputId": "f8b5a33f-fd75-477f-cdff-e163fea9d6b1"
      },
      "outputs": [
        {
          "output_type": "execute_result",
          "data": {
            "text/plain": [
              "26"
            ]
          },
          "metadata": {},
          "execution_count": 4
        }
      ],
      "source": [
        "len(words)"
      ]
    },
    {
      "cell_type": "markdown",
      "id": "703d1620",
      "metadata": {
        "ExecuteTime": {
          "end_time": "2023-06-13T13:03:17.414285Z",
          "start_time": "2023-06-13T13:03:17.409285Z"
        },
        "id": "703d1620"
      },
      "source": [
        "4.Скільки всього ЛІТЕР в усіх словах у списку words?"
      ]
    },
    {
      "cell_type": "code",
      "execution_count": null,
      "id": "c44d04d9",
      "metadata": {
        "id": "c44d04d9",
        "colab": {
          "base_uri": "https://localhost:8080/"
        },
        "outputId": "feb91ef7-c440-4a24-f45f-afbe5bc545ba"
      },
      "outputs": [
        {
          "output_type": "stream",
          "name": "stdout",
          "text": [
            "['a', 'p', 'p', 'l', 'e', 'b', 'a', 'n', 'a', 'n', 'a', 'c', 'h', 'e', 'r', 'r', 'y', 'd', 'a', 't', 'e', 'e', 'l', 'd', 'e', 'r', 'b', 'e', 'r', 'r', 'y', 'f', 'i', 'g', 'g', 'r', 'a', 'p', 'e', 'h', 'o', 'n', 'e', 'y', 'd', 'e', 'w', 'i', 'c', 'e', ' ', 'c', 'r', 'e', 'a', 'm', 'j', 'a', 'c', 'k', 'f', 'r', 'u', 'i', 't', 'k', 'i', 'w', 'i', 'l', 'e', 'm', 'o', 'n', 'm', 'a', 'n', 'g', 'o', 'n', 'e', 'c', 't', 'a', 'r', 'i', 'n', 'e', 'o', 'r', 'a', 'n', 'g', 'e', 'p', 'i', 'n', 'e', 'a', 'p', 'p', 'l', 'e', 'q', 'u', 'i', 'n', 'c', 'e', 'r', 'a', 's', 'p', 'b', 'e', 'r', 'r', 'y', 's', 't', 'r', 'a', 'w', 'b', 'e', 'r', 'r', 'y', 't', 'a', 'n', 'g', 'e', 'r', 'i', 'n', 'e', 'u', 'g', 'l', 'i', ' ', 'f', 'r', 'u', 'i', 't', 'v', 'a', 'n', 'i', 'l', 'l', 'a', 'w', 'a', 't', 'e', 'r', 'm', 'e', 'l', 'o', 'n', 'x', 'i', 'g', 'u', 'a', 'y', 'a', 'm', 'z', 'u', 'c', 'c', 'h', 'i', 'n', 'i']\n"
          ]
        }
      ],
      "source": [
        "letters = []\n",
        "for word in words:\n",
        "  for letter in word:\n",
        "    letters.append(letter)\n",
        "\n",
        "print(letters)"
      ]
    },
    {
      "cell_type": "markdown",
      "id": "4c95f6a3",
      "metadata": {
        "id": "4c95f6a3"
      },
      "source": [
        "5.Скільки разів зустрічається кожна літера в усіх словах списку `words`? Відсортуйте літери в результуючому словнику за алфавітним порядком."
      ]
    },
    {
      "cell_type": "code",
      "execution_count": null,
      "id": "f6cff6cb",
      "metadata": {
        "id": "f6cff6cb",
        "colab": {
          "base_uri": "https://localhost:8080/"
        },
        "outputId": "0d96d908-9173-4de0-c469-d13b524ccf06"
      },
      "outputs": [
        {
          "output_type": "stream",
          "name": "stdout",
          "text": [
            "{' ': 2, 'a': 20, 'b': 4, 'c': 8, 'd': 3, 'e': 24, 'f': 3, 'g': 7, 'h': 3, 'i': 15, 'j': 1, 'k': 2, 'l': 8, 'm': 5, 'n': 15, 'o': 5, 'p': 7, 'q': 1, 'r': 19, 's': 2, 't': 7, 'u': 6, 'v': 1, 'w': 4, 'x': 1, 'y': 6, 'z': 1}\n"
          ]
        }
      ],
      "source": [
        "sorted_letters = sorted(set(letters))\n",
        "n_repeats = {}\n",
        "for letter in sorted_letters:\n",
        "  n_repeats[letter] = letters.count(letter)\n",
        "\n",
        "print(n_repeats)"
      ]
    },
    {
      "cell_type": "markdown",
      "id": "94d9f1cc",
      "metadata": {
        "id": "94d9f1cc"
      },
      "source": [
        "Очікуваний результат:\n",
        "```\n",
        "{' ': 2,\n",
        " 'a': 20,\n",
        " 'b': 4,\n",
        " 'c': 8,\n",
        " 'd': 3,\n",
        " 'e': 24,\n",
        " 'f': 3,\n",
        " 'g': 7,\n",
        " 'h': 3,\n",
        " 'i': 15,\n",
        " 'j': 1,\n",
        " 'k': 2,\n",
        " 'l': 8,\n",
        " 'm': 5,\n",
        " 'n': 15,\n",
        " 'o': 5,\n",
        " 'p': 7,\n",
        " 'q': 1,\n",
        " 'r': 19,\n",
        " 's': 2,\n",
        " 't': 7,\n",
        " 'u': 6,\n",
        " 'v': 1,\n",
        " 'w': 4,\n",
        " 'x': 1,\n",
        " 'y': 6,\n",
        " 'z': 1}\n",
        " ```"
      ]
    },
    {
      "cell_type": "markdown",
      "id": "c93ac384",
      "metadata": {
        "id": "c93ac384"
      },
      "source": [
        "6.Використовуючи результат виконання попереднього завдання, виведіть на екран ту літеру, яка зустрічається найчастіше і скільки разів вона зустрічається. Це треба зробити програмно, а не просто подививщись на дані :)"
      ]
    },
    {
      "cell_type": "code",
      "execution_count": null,
      "id": "9ddfb851",
      "metadata": {
        "id": "9ddfb851",
        "colab": {
          "base_uri": "https://localhost:8080/"
        },
        "outputId": "67753680-0a86-4e2f-fe3e-321c414f1430"
      },
      "outputs": [
        {
          "output_type": "stream",
          "name": "stdout",
          "text": [
            "e 24\n"
          ]
        }
      ],
      "source": [
        "max_repeat_value = max(n_repeats.values())\n",
        "for key, value in n_repeats.items():\n",
        "  if value == max_repeat_value:\n",
        "    print(key, value)"
      ]
    },
    {
      "cell_type": "markdown",
      "id": "f40adbed",
      "metadata": {
        "id": "f40adbed"
      },
      "source": [
        "7.Для кожного елементу списку виведіть тип елемену. Якщо тип обʼєкту - int (тільки цей тип безпосередньо!), виведіть результат піднесення цього числа до степеню 5."
      ]
    },
    {
      "cell_type": "code",
      "execution_count": null,
      "id": "f92249ac",
      "metadata": {
        "ExecuteTime": {
          "end_time": "2023-06-13T12:53:04.365735Z",
          "start_time": "2023-06-13T12:53:04.362441Z"
        },
        "id": "f92249ac"
      },
      "outputs": [],
      "source": [
        "elements = [12, 'type', 'Bob', True, 'False', 1.414, 1444.333, 123/33, 5]"
      ]
    },
    {
      "cell_type": "code",
      "execution_count": null,
      "id": "96b72186",
      "metadata": {
        "id": "96b72186",
        "colab": {
          "base_uri": "https://localhost:8080/"
        },
        "outputId": "c96411db-40f0-4a60-dd71-89bba6287a8f"
      },
      "outputs": [
        {
          "output_type": "stream",
          "name": "stdout",
          "text": [
            "The type of element 12 is <class 'int'>\n",
            "This is a number! Let't take it to power 5! The result is: 248832\n",
            "The type of element type is <class 'str'>\n",
            "The type of element Bob is <class 'str'>\n",
            "The type of element True is <class 'bool'>\n",
            "The type of element False is <class 'str'>\n",
            "The type of element 1.414 is <class 'float'>\n",
            "The type of element 1444.333 is <class 'float'>\n",
            "The type of element 3.727272727272727 is <class 'float'>\n",
            "The type of element 5 is <class 'int'>\n",
            "This is a number! Let't take it to power 5! The result is: 3125\n"
          ]
        }
      ],
      "source": [
        "for el in elements:\n",
        "  if (type(el) == int):\n",
        "    print(f\"The type of element {el} is {type(el)}\")\n",
        "    print(f\"This is a number! Let't take it to power 5! The result is: {el**5}\")\n",
        "  else:\n",
        "    print(f\"The type of element {el} is {type(el)}\")"
      ]
    },
    {
      "cell_type": "markdown",
      "id": "cf2247c7",
      "metadata": {
        "ExecuteTime": {
          "end_time": "2023-06-13T12:55:17.795510Z",
          "start_time": "2023-06-13T12:55:17.787158Z"
        },
        "id": "cf2247c7"
      },
      "source": [
        "Приклад очікуваного результату (текстові коментарі і форматування можуть бути іншими):\n",
        "```\n",
        "    The type of element 12 is <class 'int'>\n",
        "    This is a number! Let't take it to power 5! The result is: 248832\n",
        "    The type of element type is <class 'str'>\n",
        "    The type of element Bob is <class 'str'>\n",
        "    The type of element True is <class 'bool'>\n",
        "    The type of element False is <class 'str'>\n",
        "    The type of element 1.414 is <class 'float'>\n",
        "    The type of element 1444.333 is <class 'float'>\n",
        "    The type of element 3.727272727272727 is <class 'float'>\n",
        "    The type of element 5 is <class 'int'>\n",
        "    This is a number! Let't take it to power 5! The result is: 3125\n",
        "```"
      ]
    },
    {
      "cell_type": "markdown",
      "id": "76a0bef2",
      "metadata": {
        "id": "76a0bef2"
      },
      "source": [
        "8.Створіть програму, яка:\n",
        "\n",
        "- Для визначених значень `name` та `age` друкує повідомлення \"Привіт, [Ім’я] ! Вам [Вік] років.\".\n",
        "- Обчислює, скільки років залишилося користувачеві до 100 років, і друкує повідомлення з цією інформацією: \"До 100 років Вам лишилось [Число] років.\"  \n",
        "\n",
        "Запустіть програму для набору користувачів нижче."
      ]
    },
    {
      "cell_type": "code",
      "execution_count": null,
      "id": "0092963a",
      "metadata": {
        "ExecuteTime": {
          "end_time": "2023-06-13T12:30:11.462941Z",
          "start_time": "2023-06-13T12:30:11.459673Z"
        },
        "id": "0092963a"
      },
      "outputs": [],
      "source": [
        "users = [\n",
        "    ['Karl', 30],\n",
        "    ['Klara', 15],\n",
        "    ['Alexis', 56],\n",
        "    ['Charles', 99]\n",
        "]"
      ]
    },
    {
      "cell_type": "code",
      "execution_count": null,
      "id": "8d6d820e",
      "metadata": {
        "id": "8d6d820e",
        "colab": {
          "base_uri": "https://localhost:8080/"
        },
        "outputId": "c90f0388-c0a6-473b-b3eb-ac5a6f213f6c"
      },
      "outputs": [
        {
          "output_type": "stream",
          "name": "stdout",
          "text": [
            "Привіт, Karl ! Вам 30 років.\n",
            "До 100 років Вам лишилось 70 років\n",
            "Привіт, Klara ! Вам 15 років.\n",
            "До 100 років Вам лишилось 85 років\n",
            "Привіт, Alexis ! Вам 56 років.\n",
            "До 100 років Вам лишилось 44 років\n",
            "Привіт, Charles ! Вам 99 років.\n",
            "До 100 років Вам лишилось 1 років\n"
          ]
        }
      ],
      "source": [
        "for user in users:\n",
        "  name, age = user\n",
        "  print(f\"Привіт, {name} ! Вам {age} років.\")\n",
        "  print(f\"До 100 років Вам лишилось {100 - age} років\")"
      ]
    },
    {
      "cell_type": "markdown",
      "id": "45fedbc4",
      "metadata": {
        "id": "45fedbc4"
      },
      "source": [
        "9.Напишть фрагмент коду, який перевіряє, чи слово є паліндромом. Слово (або фраза) є паліндромом, якщо при читанні його зворотньому напрямі буде таке саме слово.\n",
        "Наприклад, слово \"radar\" є паліндромом, але \"radix\" не є паліндромом. Код в кінці має видавати результат True або False.  \n",
        "Код має звертати увагу лише на символи-літери. Регістр літер не має значення, а знаки пунктуації (кома, крапка) та `-+=/\\`` мають бути вилучені з рядка перед перевіркою. Так само, пробіли не впливають на визначення,чи слово є палендромом. Мають значення лише літери.\n",
        "Тобто рядки \"A mam, a\" та \"A mamA\" є паліндромами, а \"AmamU\" - ні.\n",
        "\n",
        "Опціонально ви можете розмістити код на перевірку чи є слово паліндромом у фукнцію.\n",
        "Запустіть свій код для рядків з набору нижче і виведіть результат перевірки на екран для кожного рядка."
      ]
    },
    {
      "cell_type": "code",
      "execution_count": null,
      "id": "4cca3eed",
      "metadata": {
        "ExecuteTime": {
          "end_time": "2023-06-13T12:24:02.288183Z",
          "start_time": "2023-06-13T12:24:02.285245Z"
        },
        "id": "4cca3eed"
      },
      "outputs": [],
      "source": [
        "phrases_to_check = [\n",
        "    'radar',\n",
        "    'radix',\n",
        "    'A mam, a',\n",
        "    'A mamA',\n",
        "    'Sit on a potato pan Otis',\n",
        "    'Taco cat.',\n",
        "    'Taco cat',\n",
        "    'Tornado',\n",
        "    \"Go hang a salami, I'm a lasagna hog.\"\n",
        "]"
      ]
    },
    {
      "cell_type": "code",
      "execution_count": null,
      "id": "becbec3c",
      "metadata": {
        "id": "becbec3c",
        "colab": {
          "base_uri": "https://localhost:8080/"
        },
        "outputId": "3000d868-6552-4d01-995e-95ad45aedb59"
      },
      "outputs": [
        {
          "output_type": "stream",
          "name": "stdout",
          "text": [
            "radar - True\n",
            "radix - False\n",
            "A mam, a - True\n",
            "A mamA - True\n",
            "Sit on a potato pan Otis - True\n",
            "Taco cat. - True\n",
            "Taco cat - True\n",
            "Tornado - False\n",
            "Go hang a salami, I'm a lasagna hog. - True\n"
          ]
        }
      ],
      "source": [
        "import re\n",
        "phrases = [re.sub(r\"[^A-Za-z]\", \"\", phrase).lower() for phrase in phrases_to_check]\n",
        "\n",
        "for phrase1, phrase2 in zip(phrases_to_check, phrases):\n",
        "  print(f\"{phrase1} - {phrase2 == phrase2[::-1]}\")\n"
      ]
    },
    {
      "cell_type": "markdown",
      "id": "e51c421d",
      "metadata": {
        "id": "e51c421d"
      },
      "source": [
        "Очкувані результати обчислень:\n",
        "```\n",
        "    radar - True\n",
        "    radix - False\n",
        "    A mam, a - True\n",
        "    A mamA - True\n",
        "    Sit on a potato pan Otis - True\n",
        "    Taco cat. - True\n",
        "    Taco cat - True\n",
        "    Tornado - False\n",
        "    Go hang a salami, I'm a lasagna hog. - True\n",
        "```"
      ]
    }
  ],
  "metadata": {
    "kernelspec": {
      "display_name": "Python 3 (ipykernel)",
      "language": "python",
      "name": "python3"
    },
    "language_info": {
      "codemirror_mode": {
        "name": "ipython",
        "version": 3
      },
      "file_extension": ".py",
      "mimetype": "text/x-python",
      "name": "python",
      "nbconvert_exporter": "python",
      "pygments_lexer": "ipython3",
      "version": "3.10.4"
    },
    "toc": {
      "base_numbering": 1,
      "nav_menu": {},
      "number_sections": true,
      "sideBar": true,
      "skip_h1_title": false,
      "title_cell": "Table of Contents",
      "title_sidebar": "Contents",
      "toc_cell": false,
      "toc_position": {},
      "toc_section_display": true,
      "toc_window_display": false
    },
    "colab": {
      "provenance": []
    }
  },
  "nbformat": 4,
  "nbformat_minor": 5
}